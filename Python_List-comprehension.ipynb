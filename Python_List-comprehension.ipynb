{
  "nbformat": 4,
  "nbformat_minor": 0,
  "metadata": {
    "colab": {
      "name": "Untitled2.ipynb",
      "provenance": [],
      "authorship_tag": "ABX9TyOOGuROxstzmYl9UYO4QBl1",
      "include_colab_link": true
    },
    "kernelspec": {
      "name": "python3",
      "display_name": "Python 3"
    },
    "language_info": {
      "name": "python"
    }
  },
  "cells": [
    {
      "cell_type": "markdown",
      "metadata": {
        "id": "view-in-github",
        "colab_type": "text"
      },
      "source": [
        "<a href=\"https://colab.research.google.com/github/datasiyeon/Python_List-comprehension/blob/main/Python_List-comprehension.ipynb\" target=\"_parent\"><img src=\"https://colab.research.google.com/assets/colab-badge.svg\" alt=\"Open In Colab\"/></a>"
      ]
    },
    {
      "cell_type": "code",
      "execution_count": 1,
      "metadata": {
        "id": "OcaEN1nWgXJw"
      },
      "outputs": [],
      "source": [
        "# 출처 https://colab.research.google.com/github/serithemage/DataScienctPractice/blob/main/%EB%8D%B0%EC%9D%B4%ED%84%B0_%EA%B4%80%EB%A0%A8_%EC%9E%91%EC%97%85%EC%8B%9C_%EC%95%8C%EC%95%84%EB%91%90%EB%A9%B4_%ED%8E%B8%EB%A6%AC%ED%95%9C_Python_%ED%85%8C%ED%81%AC%EB%8B%89.ipynb#scrollTo=qPLCGv7TnycY"
      ]
    },
    {
      "cell_type": "code",
      "source": [
        "import numpy as np # numpy 불러오기"
      ],
      "metadata": {
        "id": "iV0Vyt1ygbHn"
      },
      "execution_count": null,
      "outputs": []
    },
    {
      "cell_type": "code",
      "source": [
        "data = np.random.randint(1,100,100) # 1부터 99까지 100개 무작위 정수 출력\n",
        "data"
      ],
      "metadata": {
        "colab": {
          "base_uri": "https://localhost:8080/"
        },
        "id": "Mnlb3wZVgYmI",
        "outputId": "3c96513b-fb12-45a5-f22a-e8ac3fd551dc"
      },
      "execution_count": 2,
      "outputs": [
        {
          "output_type": "execute_result",
          "data": {
            "text/plain": [
              "array([14, 59, 61, 55, 51, 15, 11, 92, 28, 14, 69, 41, 84,  5, 35, 72, 42,\n",
              "       15, 13, 11, 24, 50, 60,  4,  3, 59, 68, 42, 42, 34, 46, 36, 54, 76,\n",
              "       78, 45, 74, 48, 82, 77, 37, 35, 50, 45, 33,  5, 24, 50, 72, 46, 70,\n",
              "       62, 64, 97, 93, 96, 61, 84, 35, 87, 33, 81, 39, 75, 61, 19, 75, 25,\n",
              "       94, 17, 61, 70, 66, 25,  3, 37, 70, 95, 83, 52, 56,  4, 80, 70, 42,\n",
              "       49,  4,  6, 98, 39,  1, 87, 71, 86, 93,  7, 87, 41, 92, 33])"
            ]
          },
          "metadata": {},
          "execution_count": 2
        }
      ]
    },
    {
      "cell_type": "code",
      "source": [
        "type(data) # 타입 확인"
      ],
      "metadata": {
        "colab": {
          "base_uri": "https://localhost:8080/"
        },
        "id": "vb5d1Z3hhdyt",
        "outputId": "17a0b4a9-f09b-47e8-e08a-d9ed64fc1393"
      },
      "execution_count": 4,
      "outputs": [
        {
          "output_type": "execute_result",
          "data": {
            "text/plain": [
              "numpy.ndarray"
            ]
          },
          "metadata": {},
          "execution_count": 4
        }
      ]
    },
    {
      "cell_type": "code",
      "source": [
        "len(data) # 길이 확인"
      ],
      "metadata": {
        "colab": {
          "base_uri": "https://localhost:8080/"
        },
        "id": "PPS5a1Ykhlxr",
        "outputId": "f2a4248b-7c47-4d42-f9ff-83ffcc9a284a"
      },
      "execution_count": 7,
      "outputs": [
        {
          "output_type": "execute_result",
          "data": {
            "text/plain": [
              "100"
            ]
          },
          "metadata": {},
          "execution_count": 7
        }
      ]
    },
    {
      "cell_type": "code",
      "source": [
        "data_10x = []\n",
        "for value in data:\n",
        "  data_10x.append(value * 10) # 리스트 내포 전\n",
        "data_10x"
      ],
      "metadata": {
        "colab": {
          "base_uri": "https://localhost:8080/"
        },
        "id": "0LYEPLJGhuCj",
        "outputId": "d3e4422b-8ca2-4b4e-8728-3cea5345c0a9"
      },
      "execution_count": 8,
      "outputs": [
        {
          "output_type": "execute_result",
          "data": {
            "text/plain": [
              "[140,\n",
              " 590,\n",
              " 610,\n",
              " 550,\n",
              " 510,\n",
              " 150,\n",
              " 110,\n",
              " 920,\n",
              " 280,\n",
              " 140,\n",
              " 690,\n",
              " 410,\n",
              " 840,\n",
              " 50,\n",
              " 350,\n",
              " 720,\n",
              " 420,\n",
              " 150,\n",
              " 130,\n",
              " 110,\n",
              " 240,\n",
              " 500,\n",
              " 600,\n",
              " 40,\n",
              " 30,\n",
              " 590,\n",
              " 680,\n",
              " 420,\n",
              " 420,\n",
              " 340,\n",
              " 460,\n",
              " 360,\n",
              " 540,\n",
              " 760,\n",
              " 780,\n",
              " 450,\n",
              " 740,\n",
              " 480,\n",
              " 820,\n",
              " 770,\n",
              " 370,\n",
              " 350,\n",
              " 500,\n",
              " 450,\n",
              " 330,\n",
              " 50,\n",
              " 240,\n",
              " 500,\n",
              " 720,\n",
              " 460,\n",
              " 700,\n",
              " 620,\n",
              " 640,\n",
              " 970,\n",
              " 930,\n",
              " 960,\n",
              " 610,\n",
              " 840,\n",
              " 350,\n",
              " 870,\n",
              " 330,\n",
              " 810,\n",
              " 390,\n",
              " 750,\n",
              " 610,\n",
              " 190,\n",
              " 750,\n",
              " 250,\n",
              " 940,\n",
              " 170,\n",
              " 610,\n",
              " 700,\n",
              " 660,\n",
              " 250,\n",
              " 30,\n",
              " 370,\n",
              " 700,\n",
              " 950,\n",
              " 830,\n",
              " 520,\n",
              " 560,\n",
              " 40,\n",
              " 800,\n",
              " 700,\n",
              " 420,\n",
              " 490,\n",
              " 40,\n",
              " 60,\n",
              " 980,\n",
              " 390,\n",
              " 10,\n",
              " 870,\n",
              " 710,\n",
              " 860,\n",
              " 930,\n",
              " 70,\n",
              " 870,\n",
              " 410,\n",
              " 920,\n",
              " 330]"
            ]
          },
          "metadata": {},
          "execution_count": 8
        }
      ]
    },
    {
      "cell_type": "code",
      "source": [
        " data_10x = [ value * 10 for value in data ] # 리스트 내포한 것\n",
        " data_10x"
      ],
      "metadata": {
        "colab": {
          "base_uri": "https://localhost:8080/"
        },
        "id": "xPdTg_iXhpUT",
        "outputId": "e2dffbaa-e023-40eb-c965-c214bd41ff78"
      },
      "execution_count": 10,
      "outputs": [
        {
          "output_type": "execute_result",
          "data": {
            "text/plain": [
              "[140,\n",
              " 590,\n",
              " 610,\n",
              " 550,\n",
              " 510,\n",
              " 150,\n",
              " 110,\n",
              " 920,\n",
              " 280,\n",
              " 140,\n",
              " 690,\n",
              " 410,\n",
              " 840,\n",
              " 50,\n",
              " 350,\n",
              " 720,\n",
              " 420,\n",
              " 150,\n",
              " 130,\n",
              " 110,\n",
              " 240,\n",
              " 500,\n",
              " 600,\n",
              " 40,\n",
              " 30,\n",
              " 590,\n",
              " 680,\n",
              " 420,\n",
              " 420,\n",
              " 340,\n",
              " 460,\n",
              " 360,\n",
              " 540,\n",
              " 760,\n",
              " 780,\n",
              " 450,\n",
              " 740,\n",
              " 480,\n",
              " 820,\n",
              " 770,\n",
              " 370,\n",
              " 350,\n",
              " 500,\n",
              " 450,\n",
              " 330,\n",
              " 50,\n",
              " 240,\n",
              " 500,\n",
              " 720,\n",
              " 460,\n",
              " 700,\n",
              " 620,\n",
              " 640,\n",
              " 970,\n",
              " 930,\n",
              " 960,\n",
              " 610,\n",
              " 840,\n",
              " 350,\n",
              " 870,\n",
              " 330,\n",
              " 810,\n",
              " 390,\n",
              " 750,\n",
              " 610,\n",
              " 190,\n",
              " 750,\n",
              " 250,\n",
              " 940,\n",
              " 170,\n",
              " 610,\n",
              " 700,\n",
              " 660,\n",
              " 250,\n",
              " 30,\n",
              " 370,\n",
              " 700,\n",
              " 950,\n",
              " 830,\n",
              " 520,\n",
              " 560,\n",
              " 40,\n",
              " 800,\n",
              " 700,\n",
              " 420,\n",
              " 490,\n",
              " 40,\n",
              " 60,\n",
              " 980,\n",
              " 390,\n",
              " 10,\n",
              " 870,\n",
              " 710,\n",
              " 860,\n",
              " 930,\n",
              " 70,\n",
              " 870,\n",
              " 410,\n",
              " 920,\n",
              " 330]"
            ]
          },
          "metadata": {},
          "execution_count": 10
        }
      ]
    },
    {
      "cell_type": "code",
      "source": [
        "type(data_10x) # 타입 확인"
      ],
      "metadata": {
        "colab": {
          "base_uri": "https://localhost:8080/"
        },
        "id": "WHmeWJxpiJKt",
        "outputId": "74bbba8b-c7d9-49dc-e123-1c6296be84b1"
      },
      "execution_count": 11,
      "outputs": [
        {
          "output_type": "execute_result",
          "data": {
            "text/plain": [
              "list"
            ]
          },
          "metadata": {},
          "execution_count": 11
        }
      ]
    }
  ]
}